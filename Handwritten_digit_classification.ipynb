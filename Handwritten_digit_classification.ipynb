{
  "cells": [
    {
      "cell_type": "code",
      "execution_count": null,
      "metadata": {
        "id": "2rZy0ggnudMy"
      },
      "outputs": [],
      "source": [
        "#checking VGA\n",
        "!nvidia-smi"
      ]
    },
    {
      "cell_type": "code",
      "execution_count": null,
      "metadata": {
        "id": "i8yHz2-cs8hK"
      },
      "outputs": [],
      "source": [
        "#Importing libraries\n",
        "import tensorflow as tf\n",
        "from tensorflow import keras\n",
        "import matplotlib.pyplot as plt\n",
        "%matplotlib inline\n",
        "import numpy as np "
      ]
    },
    {
      "cell_type": "code",
      "execution_count": null,
      "metadata": {
        "id": "eLsxzjFguwcK"
      },
      "outputs": [],
      "source": [
        "#intializin train, test sets\n",
        "(x_train, y_train), (x_test, y_test) = keras.datasets.mnist.load_data()"
      ]
    },
    {
      "cell_type": "code",
      "execution_count": null,
      "metadata": {
        "id": "_b90IlSXv5LN"
      },
      "outputs": [],
      "source": [
        "len(x_train)"
      ]
    },
    {
      "cell_type": "code",
      "execution_count": null,
      "metadata": {
        "id": "gg1GvwpJwXfr"
      },
      "outputs": [],
      "source": [
        "len(x_test)"
      ]
    },
    {
      "cell_type": "code",
      "execution_count": null,
      "metadata": {
        "id": "bnpHNZQ2wdUf"
      },
      "outputs": [],
      "source": [
        "x_train[0].shape"
      ]
    },
    {
      "cell_type": "code",
      "execution_count": null,
      "metadata": {
        "id": "uQL723CkwoMl"
      },
      "outputs": [],
      "source": [
        "x_train[0]"
      ]
    },
    {
      "cell_type": "code",
      "execution_count": null,
      "metadata": {
        "id": "anLmFjrdwrU8"
      },
      "outputs": [],
      "source": [
        "plt.matshow(x_train[0])"
      ]
    },
    {
      "cell_type": "code",
      "execution_count": null,
      "metadata": {
        "id": "mYw9p6P2wyl0"
      },
      "outputs": [],
      "source": [
        "y_train[0]"
      ]
    },
    {
      "cell_type": "code",
      "execution_count": null,
      "metadata": {
        "id": "A4B_AUyPw5iF"
      },
      "outputs": [],
      "source": [
        "\n",
        "x_train = x_train/255\n",
        "x_test = x_test/255"
      ]
    },
    {
      "cell_type": "code",
      "execution_count": null,
      "metadata": {
        "id": "j29R5O8jxNoh"
      },
      "outputs": [],
      "source": [
        "x_train[0]"
      ]
    },
    {
      "cell_type": "code",
      "execution_count": null,
      "metadata": {
        "id": "_e8W1yjQxRat"
      },
      "outputs": [],
      "source": [
        "#Reshaping the dataset to train\n",
        "x_train_flattened = x_train.reshape(len(x_train), 28*28)\n",
        "x_test_flattened = x_test.reshape(len(x_test), 28*28)"
      ]
    },
    {
      "cell_type": "code",
      "execution_count": null,
      "metadata": {
        "id": "ZNg5Q-aJx6tU"
      },
      "outputs": [],
      "source": [
        "x_train_flattened.shape"
      ]
    },
    {
      "cell_type": "code",
      "execution_count": null,
      "metadata": {
        "id": "wP8rolvByJgu"
      },
      "outputs": [],
      "source": [
        "x_train_flattened[0].shape"
      ]
    },
    {
      "cell_type": "code",
      "execution_count": null,
      "metadata": {
        "id": "sQpp53zKyRW5"
      },
      "outputs": [],
      "source": [
        "x_train_flattened[0]"
      ]
    },
    {
      "cell_type": "code",
      "execution_count": null,
      "metadata": {
        "id": "XafX9EZ5yZcP"
      },
      "outputs": [],
      "source": [
        "#Model using no hidden layers\n",
        "model1 = keras.Sequential([\n",
        "                keras.layers.Dense(10, input_shape=(784,), activation='sigmoid')          \n",
        "])\n",
        "\n",
        "model1.compile(\n",
        "    optimizer='adam',\n",
        "    loss='sparse_categorical_crossentropy',\n",
        "    metrics=['accuracy']\n",
        ")\n",
        "\n",
        "model1.fit(x_train_flattened, y_train, epochs=5)"
      ]
    },
    {
      "cell_type": "code",
      "execution_count": null,
      "metadata": {
        "id": "N7Z9vzYmD6P2"
      },
      "outputs": [],
      "source": [
        "#Evaluate model\n",
        "model1.evaluate(x_test_flattened, y_test)"
      ]
    },
    {
      "cell_type": "code",
      "execution_count": null,
      "metadata": {
        "id": "Tp9w6_nSEPZR"
      },
      "outputs": [],
      "source": [
        "y1_predict = model1.predict(x_test_flattened)\n",
        "y1_predict[0]"
      ]
    },
    {
      "cell_type": "code",
      "execution_count": null,
      "metadata": {
        "id": "hQRRQKuQEwtq"
      },
      "outputs": [],
      "source": [
        "plt.matshow(x_test[0])"
      ]
    },
    {
      "cell_type": "code",
      "execution_count": null,
      "metadata": {
        "id": "psbtHea0FBSZ"
      },
      "outputs": [],
      "source": [
        "np.argmax(y1_predict[0])"
      ]
    },
    {
      "cell_type": "code",
      "execution_count": null,
      "metadata": {
        "id": "WXuBpXO6GPGo"
      },
      "outputs": [],
      "source": [
        "#Saving all prerdicted values to an array\n",
        "y1_predicted_labels = [np.argmax(i) for i in y1_predict]"
      ]
    },
    {
      "cell_type": "code",
      "execution_count": null,
      "metadata": {
        "id": "tJpVcc-NGpjS"
      },
      "outputs": [],
      "source": [
        "cm = tf.math.confusion_matrix(labels=y_test, predictions=y1_predicted_labels)\n",
        "cm"
      ]
    },
    {
      "cell_type": "code",
      "execution_count": null,
      "metadata": {
        "id": "5jmYvUctHWGp"
      },
      "outputs": [],
      "source": [
        "import seaborn as sn\n",
        "plt.figure(figsize = (10,7))\n",
        "sn.heatmap(cm, annot=True, fmt='d')\n",
        "plt.xlabel('Predicted')\n",
        "plt.ylabel('Truth')"
      ]
    },
    {
      "cell_type": "code",
      "execution_count": null,
      "metadata": {
        "id": "GPN4-f_zHZfr"
      },
      "outputs": [],
      "source": [
        "#Using hidden layer\n",
        "model2 = keras.Sequential([\n",
        "                           keras.layers.Dense(100, input_shape=(784,), activation='relu'),\n",
        "                           keras.layers.Dense(10, activation='sigmoid')\n",
        "])\n",
        "\n",
        "model2.compile(\n",
        "    optimizer='adam',\n",
        "    loss='sparse_categorical_crossentropy',\n",
        "    metrics=['accuracy']\n",
        ")\n",
        "\n",
        "model2.fit(x_train_flattened, y_train, epochs=5)"
      ]
    },
    {
      "cell_type": "code",
      "execution_count": null,
      "metadata": {
        "id": "j8aU0qtIJGbb"
      },
      "outputs": [],
      "source": [
        "model2.evaluate(x_test_flattened, y_test)"
      ]
    },
    {
      "cell_type": "code",
      "execution_count": null,
      "metadata": {
        "id": "QRuITj65JRLN"
      },
      "outputs": [],
      "source": [
        "y2_predict = model2.predict(x_test_flattened)\n",
        "y2_predicted_labels = [np.argmax(i) for i in y2_predict]\n",
        "cm1 = tf.math.confusion_matrix(labels=y_test, predictions=y2_predicted_labels)\n",
        "plt.figure(figsize = (10,7))\n",
        "sn.heatmap(cm1, annot=True, fmt='d')\n",
        "plt.xlabel('Predicted')\n",
        "plt.ylabel('Truth')"
      ]
    },
    {
      "cell_type": "code",
      "execution_count": null,
      "metadata": {
        "id": "WtzZblQ2Kro0"
      },
      "outputs": [],
      "source": [
        "#Using keras flatten layer\n",
        "model3 = keras.Sequential([\n",
        "                           keras.layers.Flatten(input_shape=(28,28)),\n",
        "                           keras.layers.Dense(100, activation='relu'),\n",
        "                           keras.layers.Dense(10, activation='sigmoid')\n",
        "])\n",
        "\n",
        "model3.compile(\n",
        "    optimizer='adam',\n",
        "    loss='sparse_categorical_crossentropy',\n",
        "    metrics=['accuracy']\n",
        ")\n",
        "\n",
        "model3.fit(x_train, y_train, epochs=10)"
      ]
    },
    {
      "cell_type": "code",
      "execution_count": null,
      "metadata": {
        "id": "yXXbg73XMSO6"
      },
      "outputs": [],
      "source": [
        "model3.evaluate(x_test, y_test)"
      ]
    },
    {
      "cell_type": "code",
      "execution_count": null,
      "metadata": {
        "id": "YI6oKbu9MeZe"
      },
      "outputs": [],
      "source": [
        "y3_predict = model3.predict(x_test)\n",
        "y3_predicted_labels = [np.argmax(i) for i in y3_predict]\n",
        "cm2 = tf.math.confusion_matrix(labels=y_test, predictions=y3_predicted_labels)\n",
        "plt.figure(figsize = (10,7))\n",
        "sn.heatmap(cm2, annot=True, fmt='d')\n",
        "plt.xlabel('Predicted')\n",
        "plt.ylabel('Truth')"
      ]
    }
  ],
  "metadata": {
    "accelerator": "TPU",
    "colab": {
      "collapsed_sections": [],
      "name": "Handwritten digit classification.ipynb",
      "private_outputs": true,
      "provenance": []
    },
    "kernelspec": {
      "display_name": "Python 3",
      "name": "python3"
    },
    "language_info": {
      "name": "python"
    }
  },
  "nbformat": 4,
  "nbformat_minor": 0
}
